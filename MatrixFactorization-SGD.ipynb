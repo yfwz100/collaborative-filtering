{
 "cells": [
  {
   "cell_type": "code",
   "execution_count": 1,
   "metadata": {
    "collapsed": false
   },
   "outputs": [
    {
     "name": "stdout",
     "output_type": "stream",
     "text": [
      "Populating the interactive namespace from numpy and matplotlib\n"
     ]
    }
   ],
   "source": [
    "%pylab inline\n",
    "import pandas as pd\n",
    "from functools import reduce, lru_cache"
   ]
  },
  {
   "cell_type": "markdown",
   "metadata": {},
   "source": [
    "# Data Preparation"
   ]
  },
  {
   "cell_type": "code",
   "execution_count": 2,
   "metadata": {
    "collapsed": true
   },
   "outputs": [],
   "source": [
    "all_data = pd.read_csv('ml-100k/u1.base', delimiter='\\t', header=None)\n",
    "all_data.columns = ['user_id', 'item_id', 'rating', 'timestamp']"
   ]
  },
  {
   "cell_type": "code",
   "execution_count": 3,
   "metadata": {
    "collapsed": true
   },
   "outputs": [],
   "source": [
    "tst_data = pd.read_csv('ml-100k/u1.test', delimiter='\\t', header=None)\n",
    "tst_data.columns = ['user_id', 'item_id', 'rating', 'timestamp']"
   ]
  },
  {
   "cell_type": "code",
   "execution_count": 4,
   "metadata": {
    "collapsed": true
   },
   "outputs": [],
   "source": [
    "users = max(all_data.user_id.max(), tst_data.user_id.max()) + 1\n",
    "items = max(all_data.item_id.max(), tst_data.item_id.max()) + 1"
   ]
  },
  {
   "cell_type": "code",
   "execution_count": 5,
   "metadata": {
    "collapsed": true
   },
   "outputs": [],
   "source": [
    "train_matrix = zeros((users, items))\n",
    "for i, r in all_data.iterrows():\n",
    "    train_matrix[r.user_id, r.item_id] = r.rating"
   ]
  },
  {
   "cell_type": "code",
   "execution_count": 6,
   "metadata": {
    "collapsed": true
   },
   "outputs": [],
   "source": [
    "test_matrix = zeros((users, items))\n",
    "for i, r in tst_data.iterrows():\n",
    "    test_matrix[r.user_id, r.item_id] = r.rating"
   ]
  },
  {
   "cell_type": "code",
   "execution_count": 7,
   "metadata": {
    "collapsed": true
   },
   "outputs": [],
   "source": [
    "assert train_matrix.shape == test_matrix.shape"
   ]
  },
  {
   "cell_type": "code",
   "execution_count": 8,
   "metadata": {
    "collapsed": true
   },
   "outputs": [],
   "source": [
    "del all_data, tst_data # relase the memory for later use."
   ]
  },
  {
   "cell_type": "markdown",
   "metadata": {},
   "source": [
    "# Evaluation Metrics"
   ]
  },
  {
   "cell_type": "code",
   "execution_count": 198,
   "metadata": {
    "collapsed": true
   },
   "outputs": [],
   "source": [
    "mae = lambda p, r: mean(abs(r - p))"
   ]
  },
  {
   "cell_type": "code",
   "execution_count": 206,
   "metadata": {
    "collapsed": true
   },
   "outputs": [],
   "source": [
    "rmse = lambda p, r: sqrt(mean(pow(r-p, 2)))"
   ]
  },
  {
   "cell_type": "code",
   "execution_count": 209,
   "metadata": {
    "collapsed": true
   },
   "outputs": [],
   "source": [
    "def hmae(p, r, k=3):\n",
    "    ri = r >= k\n",
    "    return mean(abs(r[ri] - p[ri]))"
   ]
  },
  {
   "cell_type": "markdown",
   "metadata": {},
   "source": [
    "# Feature Representation & Similarity Measures"
   ]
  },
  {
   "cell_type": "markdown",
   "metadata": {},
   "source": [
    "## Matrix Factorization"
   ]
  },
  {
   "cell_type": "code",
   "execution_count": 189,
   "metadata": {
    "collapsed": true
   },
   "outputs": [],
   "source": [
    "def sgd_mf(ratings, p=None, q=None, factors=40, g=1e-2, l=1e-6, max_iters=100):\n",
    "    rows, cols = ratings.shape\n",
    "    nz = transpose(nonzero(ratings))\n",
    "    if p is None:\n",
    "        p = random.random_sample((rows, factors)) * 0.1\n",
    "    if q is None:\n",
    "        q = random.random_sample((cols, factors)) * 0.1\n",
    "    for it in range(max_iters):\n",
    "        for n, (u, i) in enumerate(nz):\n",
    "            pu = p[u].copy()\n",
    "            qi = q[i].copy()\n",
    "            e = ratings[u, i] - pu @ qi.T\n",
    "            p[u] = pu + g * (e * qi - l * pu)\n",
    "            if any(isnan(p[u]) | isinf(p[u])):\n",
    "                print('%d p Nan/inf: %d %d %d %f' % (n, e, u, i, pu @ qi.T))\n",
    "                return p, q\n",
    "            q[i] = qi + g * (e * pu - l * qi)\n",
    "            if any(isnan(q[i]) | isinf(q[i])):\n",
    "                print('%d q Nan/inf: %d %d %d %f' % (n, e, u, i, pu @ qi.T))\n",
    "                return p, q\n",
    "    return p, q"
   ]
  },
  {
   "cell_type": "code",
   "execution_count": 172,
   "metadata": {
    "collapsed": false
   },
   "outputs": [],
   "source": [
    "p, q = sgd_mf(train_matrix)"
   ]
  },
  {
   "cell_type": "code",
   "execution_count": 176,
   "metadata": {
    "collapsed": false
   },
   "outputs": [
    {
     "data": {
      "text/plain": [
       "False"
      ]
     },
     "execution_count": 176,
     "metadata": {},
     "output_type": "execute_result"
    }
   ],
   "source": [
    "any(isnan(p @ q.T))"
   ]
  },
  {
   "cell_type": "code",
   "execution_count": 188,
   "metadata": {
    "collapsed": false
   },
   "outputs": [
    {
     "data": {
      "text/plain": [
       "0.21933981985295103"
      ]
     },
     "execution_count": 188,
     "metadata": {},
     "output_type": "execute_result"
    }
   ],
   "source": [
    "mean(abs(train_matrix - p @ q.T)[nonzero(train_matrix)])"
   ]
  },
  {
   "cell_type": "code",
   "execution_count": 187,
   "metadata": {
    "collapsed": false
   },
   "outputs": [
    {
     "data": {
      "text/plain": [
       "0.96498140002548261"
      ]
     },
     "execution_count": 187,
     "metadata": {},
     "output_type": "execute_result"
    }
   ],
   "source": [
    "mean(abs(test_matrix - p @ q.T)[nonzero(test_matrix)])"
   ]
  },
  {
   "cell_type": "code",
   "execution_count": 214,
   "metadata": {
    "collapsed": true
   },
   "outputs": [],
   "source": [
    "p1, q1 = sgd_mf(train_matrix, max_iters=200)"
   ]
  },
  {
   "cell_type": "code",
   "execution_count": 215,
   "metadata": {
    "collapsed": false
   },
   "outputs": [
    {
     "data": {
      "text/plain": [
       "False"
      ]
     },
     "execution_count": 215,
     "metadata": {},
     "output_type": "execute_result"
    }
   ],
   "source": [
    "any(isnan(p1 @ q1.T))"
   ]
  },
  {
   "cell_type": "code",
   "execution_count": 229,
   "metadata": {
    "collapsed": false
   },
   "outputs": [
    {
     "data": {
      "text/plain": [
       "True"
      ]
     },
     "execution_count": 229,
     "metadata": {},
     "output_type": "execute_result"
    }
   ],
   "source": [
    "any(p1 @ q1.T < 0)"
   ]
  },
  {
   "cell_type": "code",
   "execution_count": 218,
   "metadata": {
    "collapsed": false,
    "scrolled": true
   },
   "outputs": [
    {
     "data": {
      "text/plain": [
       "0.17915944373870876"
      ]
     },
     "execution_count": 218,
     "metadata": {},
     "output_type": "execute_result"
    }
   ],
   "source": [
    "mean(abs(train_matrix - p1 @ q1.T)[nonzero(train_matrix)])"
   ]
  },
  {
   "cell_type": "code",
   "execution_count": 219,
   "metadata": {
    "collapsed": false
   },
   "outputs": [
    {
     "data": {
      "text/plain": [
       "1.0648388293983198"
      ]
     },
     "execution_count": 219,
     "metadata": {},
     "output_type": "execute_result"
    }
   ],
   "source": [
    "mean(abs(test_matrix - p1 @ q1.T)[nonzero(test_matrix)])"
   ]
  },
  {
   "cell_type": "code",
   "execution_count": 190,
   "metadata": {
    "collapsed": true
   },
   "outputs": [],
   "source": [
    "def get_simialrity_matrix(factors, measure):\n",
    "    # by default, we generate the similarity matrix by the first dimension.\n",
    "    dlen = factors.shape[0]\n",
    "    similarity_matrix = zeros((dlen,) * 2)\n",
    "    for i in range(dlen):\n",
    "        for j in range(i+1, dlen):\n",
    "            similarity_matrix[i, j] = similarity_matrix[j, i] = measure(factors[i, :], factors[j, :])\n",
    "    return similarity_matrix"
   ]
  },
  {
   "cell_type": "code",
   "execution_count": 191,
   "metadata": {
    "collapsed": true
   },
   "outputs": [],
   "source": [
    "def pearson_similarity(a, b):\n",
    "    assert a.shape == b.shape\n",
    "    overlap = (a > 0) & (b > 0)\n",
    "    if any(overlap):\n",
    "        va = a[overlap]\n",
    "        vb = b[overlap]\n",
    "        n = sqrt(sum(pow(va - mean(va), 2))) * sqrt(sum(pow(vb - mean(vb), 2)))\n",
    "        if n == 0:\n",
    "            return 0\n",
    "        else:\n",
    "            return round(sum((va - mean(va)) * (vb - mean(vb))) / n, 6)\n",
    "    return 0"
   ]
  },
  {
   "cell_type": "code",
   "execution_count": 192,
   "metadata": {
    "collapsed": false
   },
   "outputs": [],
   "source": [
    "ii_sim = get_simialrity_matrix(q, pearson_similarity)"
   ]
  },
  {
   "cell_type": "code",
   "execution_count": 193,
   "metadata": {
    "collapsed": false,
    "scrolled": false
   },
   "outputs": [
    {
     "data": {
      "text/plain": [
       "array([[ 0.      ,  0.006804,  0.09311 , ..., -0.134953,  0.017701,\n",
       "        -0.168959],\n",
       "       [ 0.006804,  0.      ,  0.338329, ...,  0.035865,  0.184435,\n",
       "         0.258511],\n",
       "       [ 0.09311 ,  0.338329,  0.      , ...,  0.178052, -0.024423,\n",
       "        -0.161925],\n",
       "       ..., \n",
       "       [-0.134953,  0.035865,  0.178052, ...,  0.      , -0.132102,\n",
       "         0.387579],\n",
       "       [ 0.017701,  0.184435, -0.024423, ..., -0.132102,  0.      ,\n",
       "         0.052046],\n",
       "       [-0.168959,  0.258511, -0.161925, ...,  0.387579,  0.052046,  0.      ]])"
      ]
     },
     "execution_count": 193,
     "metadata": {},
     "output_type": "execute_result"
    }
   ],
   "source": [
    "ii_sim"
   ]
  },
  {
   "cell_type": "code",
   "execution_count": 212,
   "metadata": {
    "collapsed": false
   },
   "outputs": [
    {
     "data": {
      "image/png": "[encoded data removed]",
      "text/plain": [
       "<matplotlib.figure.Figure at 0x10d398400>"
      ]
     },
     "metadata": {},
     "output_type": "display_data"
    }
   ],
   "source": [
    "hist(ii_sim[2]);"
   ]
  },
  {
   "cell_type": "code",
   "execution_count": 220,
   "metadata": {
    "collapsed": true
   },
   "outputs": [],
   "source": [
    "ii_sim2 = get_simialrity_matrix(q1, pearson_similarity)"
   ]
  },
  {
   "cell_type": "code",
   "execution_count": 221,
   "metadata": {
    "collapsed": false
   },
   "outputs": [
    {
     "data": {
      "text/plain": [
       "array([[ 0.      , -0.319239, -0.227428, ...,  0.007816,  0.085855,\n",
       "         0.059533],\n",
       "       [-0.319239,  0.      ,  0.038202, ...,  0.144019, -0.152351,\n",
       "         0.035896],\n",
       "       [-0.227428,  0.038202,  0.      , ...,  0.032371,  0.220136,\n",
       "        -0.006309],\n",
       "       ..., \n",
       "       [ 0.007816,  0.144019,  0.032371, ...,  0.      ,  0.325981,\n",
       "        -0.059492],\n",
       "       [ 0.085855, -0.152351,  0.220136, ...,  0.325981,  0.      ,\n",
       "         0.050975],\n",
       "       [ 0.059533,  0.035896, -0.006309, ..., -0.059492,  0.050975,  0.      ]])"
      ]
     },
     "execution_count": 221,
     "metadata": {},
     "output_type": "execute_result"
    }
   ],
   "source": [
    "ii_sim2"
   ]
  },
  {
   "cell_type": "code",
   "execution_count": 222,
   "metadata": {
    "collapsed": false,
    "scrolled": true
   },
   "outputs": [
    {
     "data": {
      "image/png": "[encoded data removed]",
      "text/plain": [
       "<matplotlib.figure.Figure at 0x10d4232e8>"
      ]
     },
     "metadata": {},
     "output_type": "display_data"
    }
   ],
   "source": [
    "hist(ii_sim2[2]);"
   ]
  },
  {
   "cell_type": "markdown",
   "metadata": {},
   "source": [
    "# Common Collaborative Filtering"
   ]
  },
  {
   "cell_type": "code",
   "execution_count": 194,
   "metadata": {
    "collapsed": true
   },
   "outputs": [],
   "source": [
    "def cf(pairs, rating_matrix, similarity_matrix, agg=lambda p, r: sum(p * r) / sum(p)):\n",
    "    result = []\n",
    "    for u, i in pairs:\n",
    "        p = similarity_matrix[u, :]\n",
    "        r = rating_matrix[:, i]\n",
    "        rating = agg(p[r>0], r[r>0])\n",
    "        if isnan(rating):\n",
    "            rating = mean(rating_matrix[u, :])\n",
    "        result.append(rating)\n",
    "    return array(result)"
   ]
  },
  {
   "cell_type": "code",
   "execution_count": 195,
   "metadata": {
    "collapsed": true
   },
   "outputs": [],
   "source": [
    "def topk_agg(k):\n",
    "    def agg(p, r):\n",
    "        pi = argsort(p)\n",
    "        sel_p = p[pi][-k:]\n",
    "        sel_r = r[pi][-k:]\n",
    "        return sum(sel_p[sel_p>0] * sel_r[sel_p>0]) / sum(sel_p[sel_p>0])\n",
    "    return agg"
   ]
  },
  {
   "cell_type": "markdown",
   "metadata": {},
   "source": [
    "# Cases Study"
   ]
  },
  {
   "cell_type": "code",
   "execution_count": 207,
   "metadata": {
    "collapsed": false
   },
   "outputs": [],
   "source": [
    "ipred1 = cf(\n",
    "    zip(*nonzero(test_matrix.T)),\n",
    "    train_matrix.T,\n",
    "    ii_sim,\n",
    "    topk_agg(30)\n",
    ")"
   ]
  },
  {
   "cell_type": "code",
   "execution_count": 208,
   "metadata": {
    "collapsed": false
   },
   "outputs": [
    {
     "data": {
      "text/plain": [
       "0.83758858802847402"
      ]
     },
     "execution_count": 208,
     "metadata": {},
     "output_type": "execute_result"
    }
   ],
   "source": [
    "mae(test_matrix.T[nonzero(test_matrix.T)], ipred1)"
   ]
  },
  {
   "cell_type": "code",
   "execution_count": 213,
   "metadata": {
    "collapsed": false
   },
   "outputs": [
    {
     "data": {
      "text/plain": [
       "1.0528121479631036"
      ]
     },
     "execution_count": 213,
     "metadata": {},
     "output_type": "execute_result"
    }
   ],
   "source": [
    "rmse(test_matrix.T[nonzero(test_matrix.T)], ipred1)"
   ]
  },
  {
   "cell_type": "code",
   "execution_count": 223,
   "metadata": {
    "collapsed": true
   },
   "outputs": [],
   "source": [
    "ipred2 = cf(\n",
    "    zip(*nonzero(test_matrix.T)),\n",
    "    train_matrix.T,\n",
    "    ii_sim2,\n",
    "    topk_agg(30)\n",
    ")"
   ]
  },
  {
   "cell_type": "code",
   "execution_count": 225,
   "metadata": {
    "collapsed": false
   },
   "outputs": [
    {
     "data": {
      "text/plain": [
       "0.84439279764437636"
      ]
     },
     "execution_count": 225,
     "metadata": {},
     "output_type": "execute_result"
    }
   ],
   "source": [
    "mae(test_matrix.T[nonzero(test_matrix.T)], ipred2)"
   ]
  },
  {
   "cell_type": "code",
   "execution_count": 227,
   "metadata": {
    "collapsed": false
   },
   "outputs": [
    {
     "data": {
      "text/plain": [
       "1.0602298654330409"
      ]
     },
     "execution_count": 227,
     "metadata": {},
     "output_type": "execute_result"
    }
   ],
   "source": [
    "rmse(test_matrix.T[nonzero(test_matrix.T)], ipred2)"
   ]
  }
 ],
 "metadata": {
  "kernelspec": {
   "display_name": "Python 3",
   "language": "python",
   "name": "python3"
  },
  "language_info": {
   "codemirror_mode": {
    "name": "ipython",
    "version": 3
   },
   "file_extension": ".py",
   "mimetype": "text/x-python",
   "name": "python",
   "nbconvert_exporter": "python",
   "pygments_lexer": "ipython3",
   "version": "3.5.1"
  }
 },
 "nbformat": 4,
 "nbformat_minor": 0
}
