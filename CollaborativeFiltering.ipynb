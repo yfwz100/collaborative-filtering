{
 "cells": [
  {
   "cell_type": "code",
   "execution_count": 4,
   "metadata": {
    "collapsed": false
   },
   "outputs": [
    {
     "name": "stdout",
     "output_type": "stream",
     "text": [
      "Populating the interactive namespace from numpy and matplotlib\n"
     ]
    }
   ],
   "source": [
    "%pylab inline\n",
    "import pandas as pd\n",
    "from functools import reduce, lru_cache"
   ]
  },
  {
   "cell_type": "markdown",
   "metadata": {},
   "source": [
    "# Data Preparation"
   ]
  },
  {
   "cell_type": "code",
   "execution_count": 5,
   "metadata": {
    "collapsed": false
   },
   "outputs": [],
   "source": [
    "all_data = pd.read_csv('ml-100k/u1.base', delimiter='\\t', header=None)\n",
    "all_data.columns = ['user_id', 'item_id', 'rating', 'timestamp']"
   ]
  },
  {
   "cell_type": "code",
   "execution_count": 6,
   "metadata": {
    "collapsed": true
   },
   "outputs": [],
   "source": [
    "tst_data = pd.read_csv('ml-100k/u1.test', delimiter='\\t', header=None)\n",
    "tst_data.columns = ['user_id', 'item_id', 'rating', 'timestamp']"
   ]
  },
  {
   "cell_type": "code",
   "execution_count": 7,
   "metadata": {
    "collapsed": true
   },
   "outputs": [],
   "source": [
    "users = max(all_data.user_id.max(), tst_data.user_id.max()) + 1\n",
    "items = max(all_data.item_id.max(), tst_data.item_id.max()) + 1"
   ]
  },
  {
   "cell_type": "code",
   "execution_count": 8,
   "metadata": {
    "collapsed": false
   },
   "outputs": [],
   "source": [
    "train_matrix = zeros((users, items))\n",
    "for i, r in all_data.iterrows():\n",
    "    train_matrix[r.user_id, r.item_id] = r.rating"
   ]
  },
  {
   "cell_type": "code",
   "execution_count": 9,
   "metadata": {
    "collapsed": false
   },
   "outputs": [],
   "source": [
    "test_matrix = zeros((users, items))\n",
    "for i, r in tst_data.iterrows():\n",
    "    test_matrix[r.user_id, r.item_id] = r.rating"
   ]
  },
  {
   "cell_type": "code",
   "execution_count": 280,
   "metadata": {
    "collapsed": false
   },
   "outputs": [],
   "source": [
    "assert train_matrix.shape == test_matrix.shape"
   ]
  },
  {
   "cell_type": "code",
   "execution_count": 282,
   "metadata": {
    "collapsed": false
   },
   "outputs": [],
   "source": [
    "del all_data, tst_data # relase the memory for later use."
   ]
  },
  {
   "cell_type": "markdown",
   "metadata": {},
   "source": [
    "# Evaluation Metrics"
   ]
  },
  {
   "cell_type": "code",
   "execution_count": 125,
   "metadata": {
    "collapsed": true
   },
   "outputs": [],
   "source": [
    "mae = lambda p, r: mean(abs(r - p))"
   ]
  },
  {
   "cell_type": "code",
   "execution_count": 126,
   "metadata": {
    "collapsed": true
   },
   "outputs": [],
   "source": [
    "rmse = lambda p, r: sqrt(mean(pow(r-p, 2)))"
   ]
  },
  {
   "cell_type": "code",
   "execution_count": 273,
   "metadata": {
    "collapsed": true
   },
   "outputs": [],
   "source": [
    "def hmae(p, r, k=3):\n",
    "    ri = r >= k\n",
    "    return mean(abs(r[ri] - p[ri]))"
   ]
  },
  {
   "cell_type": "markdown",
   "metadata": {},
   "source": [
    "# Algorithm Test"
   ]
  },
  {
   "cell_type": "code",
   "execution_count": 151,
   "metadata": {
    "collapsed": false
   },
   "outputs": [],
   "source": [
    "def get_simialrity_matrix(ratings, measure):\n",
    "    # by default, we generate the similarity matrix by the first dimension.\n",
    "    dlen = ratings.shape[0]\n",
    "    item_similarity_matrix = zeros((dlen,) * 2)\n",
    "    for i in range(dlen):\n",
    "        for j in range(i+1, dlen):\n",
    "            item_similarity_matrix[i, j] = item_similarity_matrix[j, i] = measure(ratings[i, :], ratings[j, :])\n",
    "    return item_similarity_matrix"
   ]
  },
  {
   "cell_type": "markdown",
   "metadata": {},
   "source": [
    "## Similarity Measures"
   ]
  },
  {
   "cell_type": "code",
   "execution_count": 67,
   "metadata": {
    "collapsed": true
   },
   "outputs": [],
   "source": [
    "def pearson_similarity(a, b):\n",
    "    assert a.shape == b.shape\n",
    "    overlap = (a > 0) & (b > 0)\n",
    "    if any(overlap):\n",
    "        va = a[overlap]\n",
    "        vb = b[overlap]\n",
    "        n = sqrt(sum(pow(va - mean(va), 2))) * sqrt(sum(pow(vb - mean(vb), 2)))\n",
    "        if n == 0:\n",
    "            return 0\n",
    "        else:\n",
    "            return round(sum((va - mean(va)) * (vb - mean(vb))) / n, 6)\n",
    "    return 0"
   ]
  },
  {
   "cell_type": "code",
   "execution_count": 156,
   "metadata": {
    "collapsed": true
   },
   "outputs": [],
   "source": [
    "def diffratio_similarity(a, b):\n",
    "    assert a.shape == b.shape\n",
    "    overlap = (a > 0) & (b > 0)\n",
    "    if any(overlap):\n",
    "        va = a[overlap]\n",
    "        vb = b[overlap]\n",
    "        n = sqrt(sum(pow(va - mean(va), 2))) * sqrt(sum(pow(vb - mean(vb), 2)))\n",
    "        if n == 0:\n",
    "            return 0\n",
    "        else:\n",
    "            union = (a > 0) | (b > 0)\n",
    "            contrib = count_nonzero(overlap) / count_nonzero(union)\n",
    "            return contrib * round(sum((va - mean(va)) * (vb - mean(vb))) / n, 6)\n",
    "    return 0"
   ]
  },
  {
   "cell_type": "code",
   "execution_count": 162,
   "metadata": {
    "collapsed": true
   },
   "outputs": [],
   "source": [
    "def diffratiolog_similarity(a, b):\n",
    "    assert a.shape == b.shape\n",
    "    overlap = (a > 0) & (b > 0)\n",
    "    if any(overlap):\n",
    "        va = a[overlap]\n",
    "        vb = b[overlap]\n",
    "        n = sqrt(sum(pow(va - mean(va), 2))) * sqrt(sum(pow(vb - mean(vb), 2)))\n",
    "        if n == 0:\n",
    "            return 0\n",
    "        else:\n",
    "            union = (a > 0) | (b > 0)\n",
    "            contrib1 = count_nonzero(overlap) / count_nonzero(union)\n",
    "            contrib2 = log(count_nonzero(overlap)) / log(count_nonzero(union))\n",
    "            return contrib1 * contrib2 * round(sum((va - mean(va)) * (vb - mean(vb))) / n, 6)\n",
    "    return 0"
   ]
  },
  {
   "cell_type": "code",
   "execution_count": 68,
   "metadata": {
    "collapsed": false,
    "scrolled": true
   },
   "outputs": [
    {
     "data": {
      "text/plain": [
       "1.0"
      ]
     },
     "execution_count": 68,
     "metadata": {},
     "output_type": "execute_result"
    }
   ],
   "source": [
    "pearson_similarity(\n",
    "    array([2,4,8]),\n",
    "    array([1,2,4])\n",
    ")"
   ]
  },
  {
   "cell_type": "code",
   "execution_count": 163,
   "metadata": {
    "collapsed": false,
    "scrolled": true
   },
   "outputs": [],
   "source": [
    "uu_sim3 = get_simialrity_matrix(train_matrix, diffratiolog_similarity)"
   ]
  },
  {
   "cell_type": "code",
   "execution_count": 157,
   "metadata": {
    "collapsed": false,
    "scrolled": true
   },
   "outputs": [],
   "source": [
    "uu_sim2 = get_simialrity_matrix(train_matrix, diffratio_similarity)"
   ]
  },
  {
   "cell_type": "code",
   "execution_count": 136,
   "metadata": {
    "collapsed": false
   },
   "outputs": [],
   "source": [
    "uu_sim = get_simialrity_matrix(train_matrix, pearson_similarity)"
   ]
  },
  {
   "cell_type": "code",
   "execution_count": 292,
   "metadata": {
    "collapsed": false,
    "scrolled": true
   },
   "outputs": [
    {
     "data": {
      "image/png": "[encoded data removed]",
      "text/plain": [
       "<matplotlib.figure.Figure at 0x10e9c46a0>"
      ]
     },
     "metadata": {},
     "output_type": "display_data"
    }
   ],
   "source": [
    "subplot(121); hist(uu_sim[1, :]); subplot(122); hist(uu_sim3[1, :]);"
   ]
  },
  {
   "cell_type": "code",
   "execution_count": 71,
   "metadata": {
    "collapsed": false
   },
   "outputs": [],
   "source": [
    "ii_sim = get_simialrity_matrix(train_matrix.T, pearson_similarity)"
   ]
  },
  {
   "cell_type": "code",
   "execution_count": 190,
   "metadata": {
    "collapsed": true
   },
   "outputs": [],
   "source": [
    "ii_sim2 = get_simialrity_matrix(train_matrix.T, diffratiolog_similarity)"
   ]
  },
  {
   "cell_type": "code",
   "execution_count": 289,
   "metadata": {
    "collapsed": false
   },
   "outputs": [
    {
     "data": {
      "image/png": "[encoded data removed]",
      "text/plain": [
       "<matplotlib.figure.Figure at 0x10893d5c0>"
      ]
     },
     "metadata": {},
     "output_type": "display_data"
    }
   ],
   "source": [
    "subplot(121); hist(ii_sim[1]); subplot(122); hist(ii_sim2[1]);"
   ]
  },
  {
   "cell_type": "code",
   "execution_count": 101,
   "metadata": {
    "collapsed": false
   },
   "outputs": [
    {
     "data": {
      "text/plain": [
       "array([1, 0, 2])"
      ]
     },
     "execution_count": 101,
     "metadata": {},
     "output_type": "execute_result"
    }
   ],
   "source": [
    "argsort([1,-1,3])"
   ]
  },
  {
   "cell_type": "code",
   "execution_count": 103,
   "metadata": {
    "collapsed": false,
    "scrolled": true
   },
   "outputs": [
    {
     "data": {
      "text/plain": [
       "array([1, 2, 3])"
      ]
     },
     "execution_count": 103,
     "metadata": {},
     "output_type": "execute_result"
    }
   ],
   "source": [
    "array([1,2,3])[-10:]"
   ]
  },
  {
   "cell_type": "markdown",
   "metadata": {},
   "source": [
    "## Algorithm Framework"
   ]
  },
  {
   "cell_type": "code",
   "execution_count": 114,
   "metadata": {
    "collapsed": true
   },
   "outputs": [],
   "source": [
    "def cf(pairs, rating_matrix, similarity_matrix, agg=lambda p, r: sum(p * r) / sum(p)):\n",
    "    result = []\n",
    "    for u, i in pairs:\n",
    "        p = similarity_matrix[u, :]\n",
    "        r = rating_matrix[:, i]\n",
    "        rating = agg(p[r>0], r[r>0])\n",
    "        if isnan(rating):\n",
    "            rating = mean(rating_matrix[u, :])\n",
    "        result.append(rating)\n",
    "    return array(result)"
   ]
  },
  {
   "cell_type": "code",
   "execution_count": 301,
   "metadata": {
    "collapsed": true
   },
   "outputs": [],
   "source": [
    "def all_agg(p, r):\n",
    "    return sum(p * r) / sum(p)"
   ]
  },
  {
   "cell_type": "code",
   "execution_count": 120,
   "metadata": {
    "collapsed": true
   },
   "outputs": [],
   "source": [
    "def topk_agg(k):\n",
    "    def agg(p, r):\n",
    "        pi = argsort(p)\n",
    "        sel_p = p[pi][-k:]\n",
    "        sel_r = r[pi][-k:]\n",
    "        return sum(sel_p[sel_p>0] * sel_r[sel_p>0]) / sum(sel_p[sel_p>0])\n",
    "    return agg"
   ]
  },
  {
   "cell_type": "markdown",
   "metadata": {},
   "source": [
    "# Cases Study"
   ]
  },
  {
   "cell_type": "markdown",
   "metadata": {},
   "source": [
    "## Item-based Solution"
   ]
  },
  {
   "cell_type": "code",
   "execution_count": 229,
   "metadata": {
    "collapsed": false
   },
   "outputs": [],
   "source": [
    "prediction1 = cf(\n",
    "    zip(*nonzero(test_matrix.T)),\n",
    "    train_matrix.T,\n",
    "    ii_sim,\n",
    "    topk_agg(1000)\n",
    ")"
   ]
  },
  {
   "cell_type": "code",
   "execution_count": 230,
   "metadata": {
    "collapsed": false,
    "scrolled": false
   },
   "outputs": [
    {
     "data": {
      "text/plain": [
       "0.84189091903689461"
      ]
     },
     "execution_count": 230,
     "metadata": {},
     "output_type": "execute_result"
    }
   ],
   "source": [
    "mae(test_matrix.T[nonzero(test_matrix.T)], prediction1)"
   ]
  },
  {
   "cell_type": "code",
   "execution_count": 278,
   "metadata": {
    "collapsed": false
   },
   "outputs": [
    {
     "data": {
      "text/plain": [
       "0.82257234724864725"
      ]
     },
     "execution_count": 278,
     "metadata": {},
     "output_type": "execute_result"
    }
   ],
   "source": [
    "hmae(test_matrix.T[nonzero(test_matrix.T)], prediction1, 3)"
   ]
  },
  {
   "cell_type": "code",
   "execution_count": 276,
   "metadata": {
    "collapsed": true
   },
   "outputs": [],
   "source": [
    "prediction2 = cf(\n",
    "    zip(*nonzero(test_matrix.T)),\n",
    "    train_matrix.T,\n",
    "    ii_sim2,\n",
    "    topk_agg(20)\n",
    ")"
   ]
  },
  {
   "cell_type": "code",
   "execution_count": 267,
   "metadata": {
    "collapsed": false
   },
   "outputs": [
    {
     "data": {
      "text/plain": [
       "0.77422581689659165"
      ]
     },
     "execution_count": 267,
     "metadata": {},
     "output_type": "execute_result"
    }
   ],
   "source": [
    "mae(test_matrix.T[nonzero(test_matrix.T)], prediction2)"
   ]
  },
  {
   "cell_type": "code",
   "execution_count": 279,
   "metadata": {
    "collapsed": false
   },
   "outputs": [
    {
     "data": {
      "text/plain": [
       "0.74534968878245256"
      ]
     },
     "execution_count": 279,
     "metadata": {},
     "output_type": "execute_result"
    }
   ],
   "source": [
    "hmae(test_matrix.T[nonzero(test_matrix.T)], prediction2, 3)"
   ]
  },
  {
   "cell_type": "markdown",
   "metadata": {},
   "source": [
    "## User-based Solution"
   ]
  },
  {
   "cell_type": "code",
   "execution_count": 294,
   "metadata": {
    "collapsed": true
   },
   "outputs": [],
   "source": [
    "upred1 = cf(\n",
    "    zip(*nonzero(test_matrix)),\n",
    "    train_matrix,\n",
    "    uu_sim,\n",
    "    topk_agg(40)\n",
    ")"
   ]
  },
  {
   "cell_type": "code",
   "execution_count": 295,
   "metadata": {
    "collapsed": false
   },
   "outputs": [
    {
     "data": {
      "text/plain": [
       "0.81203563856371952"
      ]
     },
     "execution_count": 295,
     "metadata": {},
     "output_type": "execute_result"
    }
   ],
   "source": [
    "mae(test_matrix[nonzero(test_matrix)], upred1)"
   ]
  },
  {
   "cell_type": "code",
   "execution_count": 296,
   "metadata": {
    "collapsed": true
   },
   "outputs": [],
   "source": [
    "upred2 = cf(\n",
    "    zip(*nonzero(test_matrix)),\n",
    "    train_matrix,\n",
    "    uu_sim2,\n",
    "    topk_agg(40)\n",
    ")"
   ]
  },
  {
   "cell_type": "code",
   "execution_count": 297,
   "metadata": {
    "collapsed": false
   },
   "outputs": [
    {
     "data": {
      "text/plain": [
       "0.80532432063515313"
      ]
     },
     "execution_count": 297,
     "metadata": {},
     "output_type": "execute_result"
    }
   ],
   "source": [
    "mae(test_matrix[nonzero(test_matrix)], upred2)"
   ]
  },
  {
   "cell_type": "code",
   "execution_count": 298,
   "metadata": {
    "collapsed": true
   },
   "outputs": [],
   "source": [
    "upred3 = cf(\n",
    "    zip(*nonzero(test_matrix)),\n",
    "    train_matrix,\n",
    "    uu_sim3,\n",
    "    topk_agg(40)\n",
    ")"
   ]
  },
  {
   "cell_type": "code",
   "execution_count": 300,
   "metadata": {
    "collapsed": false,
    "scrolled": true
   },
   "outputs": [
    {
     "data": {
      "text/plain": [
       "0.8052534465253689"
      ]
     },
     "execution_count": 300,
     "metadata": {},
     "output_type": "execute_result"
    }
   ],
   "source": [
    "mae(test_matrix[nonzero(test_matrix)], upred3)"
   ]
  },
  {
   "cell_type": "markdown",
   "metadata": {},
   "source": [
    "# Conclusion"
   ]
  },
  {
   "cell_type": "markdown",
   "metadata": {},
   "source": [
    "User-based solution outperforms item-based solution. However, when top k aggregation is adopted, item-based solution is no better than user-based solution. \n",
    "\n",
    "When Diff.Ratio.Log method is adopted, all results are improved."
   ]
  }
 ],
 "metadata": {
  "kernelspec": {
   "display_name": "Python 3",
   "language": "python",
   "name": "python3"
  },
  "language_info": {
   "codemirror_mode": {
    "name": "ipython",
    "version": 3
   },
   "file_extension": ".py",
   "mimetype": "text/x-python",
   "name": "python",
   "nbconvert_exporter": "python",
   "pygments_lexer": "ipython3",
   "version": "3.5.1"
  }
 },
 "nbformat": 4,
 "nbformat_minor": 0
}
